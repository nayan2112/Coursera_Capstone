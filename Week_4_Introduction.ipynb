{
 "cells": [
  {
   "cell_type": "markdown",
   "metadata": {},
   "source": [
    " # The Battle of Neighborhoods | Business Problem | Introduction"
   ]
  },
  {
   "cell_type": "markdown",
   "metadata": {},
   "source": [
    "## Introdution"
   ]
  },
  {
   "cell_type": "markdown",
   "metadata": {},
   "source": [
    "The purpose of this Project is to help people in exploring better facilities around their neighborhood. It will help people making smart and efficient decision on selecting great neighborhood out of numbers of other neighborhoods in Mumbai, Maharashtra, India.\n",
    "\n",
    "Mumbai is a financial capital of India so Lots of people are migrating from various states of India to mumbai for there livelihood Therefore they need lots of research for area with good infrastructure like schools, hospitals, malls , cafe, restaurants and connectivity with the diffrent parts of the city. Even many companies are comming in mumbai so they can select the areas for there company office to check the infrastructure available and connctivity available in that area with diffrent parts, so it can be very helpful. This project is for those people who are looking for better neighborhoods.\n",
    "\n",
    "It will help people to get awareness of the area and neighborhood before moving to a new city, state, country or place for their work or to start a new fresh life.\n",
    "\n",
    "#### Problem Which I Tried to Solve\n",
    "\n",
    "This Project aim to create an analysis area with good infrastructure like schools, hospitals, malls , cafe, restaurants and connectivity with the diffrent parts of the city. Even many companies are comming in mumbai so they can select the areas for there company office to check the infrastructure available and connctivity available in that area with diffrent parts.\n",
    "\n",
    "#### The Location:\n",
    "\n",
    "Mumbai formerly known as Bombay is the capital city of the Indian state of Maharashtra. According to the United Nations, as of 2018, Mumbai is the most populous city in the country and the seventh-most populous city in the world with a population of roughly 20 million. As per Indian government population census of 2011, Mumbai is the most populous city in India with an estimated city proper population of 12.5 million living under Municipal Corporation of Greater Mumbai. So lots of people come to mumbai for job from all over India. Mumbai is also famous for its various tourist places, so for this purpose even people come from all over world, so they can find out the best place in mumbai with diffrent venues.\n",
    "\n",
    "\n",
    "\n",
    "#### Libraries Which are Used to Develope the Project:¶\n",
    "\n",
    "Pandas: For creating and manipulating dataframes.\n",
    "\n",
    "Folium: Python visualization library would be used to visualize the neighborhoods cluster distribution of using interactive leaflet map.\n",
    "\n",
    "Scikit Learn: For importing k-means clustering.\n",
    "\n",
    "JSON: Library to handle JSON files.\n",
    "\n",
    "Geocoder: To retrieve Location Data.\n",
    "\n",
    "Beautiful Soup and Requests: To scrap and library to handle http requests.\n",
    "\n",
    "Matplotlib: Python Plotting Module."
   ]
  },
  {
   "cell_type": "code",
   "execution_count": null,
   "metadata": {},
   "outputs": [],
   "source": []
  },
  {
   "cell_type": "code",
   "execution_count": null,
   "metadata": {},
   "outputs": [],
   "source": []
  }
 ],
 "metadata": {
  "kernelspec": {
   "display_name": "Python 3",
   "language": "python",
   "name": "python3"
  },
  "language_info": {
   "codemirror_mode": {
    "name": "ipython",
    "version": 3
   },
   "file_extension": ".py",
   "mimetype": "text/x-python",
   "name": "python",
   "nbconvert_exporter": "python",
   "pygments_lexer": "ipython3",
   "version": "3.7.1"
  }
 },
 "nbformat": 4,
 "nbformat_minor": 2
}
